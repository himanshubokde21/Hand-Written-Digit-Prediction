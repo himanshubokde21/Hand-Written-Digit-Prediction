{
 "cells": [
  {
   "cell_type": "markdown",
   "id": "cdcf80c6",
   "metadata": {
    "id": "Vy2SMfOTv6Ej",
    "papermill": {
     "duration": 0.014983,
     "end_time": "2023-08-04T16:29:08.803551",
     "exception": false,
     "start_time": "2023-08-04T16:29:08.788568",
     "status": "completed"
    },
    "tags": []
   },
   "source": [
    "# **Hand Written Digit Prediction-Classification Analysis**\n"
   ]
  },
  {
   "cell_type": "markdown",
   "id": "75ecb520",
   "metadata": {},
   "source": [
    "The digits dataset consists of 8x8 pixel images pf digits.The images attribute of the dataset stores 8x8 arrays of grayscale values for each image.we will use these arrays to visualize the first 4 images.The target attritube of the dataset stores the digit each image represents"
   ]
  },
  {
   "cell_type": "markdown",
   "id": "3e5fb5e6",
   "metadata": {},
   "source": [
    "ybi foundation-github"
   ]
  },
  {
   "cell_type": "markdown",
   "id": "d09ad1c8",
   "metadata": {
    "id": "Q8K4pOQP_NcM",
    "papermill": {
     "duration": 0.014029,
     "end_time": "2023-08-04T16:29:08.891646",
     "exception": false,
     "start_time": "2023-08-04T16:29:08.877617",
     "status": "completed"
    },
    "tags": []
   },
   "source": [
    "# **Import Library**"
   ]
  },
  {
   "cell_type": "code",
   "execution_count": 32,
   "id": "be4fc18c",
   "metadata": {
    "execution": {
     "iopub.execute_input": "2023-08-04T16:29:08.924741Z",
     "iopub.status.busy": "2023-08-04T16:29:08.924141Z",
     "iopub.status.idle": "2023-08-04T16:29:08.938738Z",
     "shell.execute_reply": "2023-08-04T16:29:08.937751Z"
    },
    "id": "t1eFOFTO-8Z0",
    "papermill": {
     "duration": 0.033793,
     "end_time": "2023-08-04T16:29:08.941423",
     "exception": false,
     "start_time": "2023-08-04T16:29:08.907630",
     "status": "completed"
    },
    "tags": []
   },
   "outputs": [],
   "source": [
    "import pandas as pd"
   ]
  },
  {
   "cell_type": "code",
   "execution_count": 33,
   "id": "a7ab333b",
   "metadata": {
    "execution": {
     "iopub.execute_input": "2023-08-04T16:29:08.972835Z",
     "iopub.status.busy": "2023-08-04T16:29:08.972393Z",
     "iopub.status.idle": "2023-08-04T16:29:08.977508Z",
     "shell.execute_reply": "2023-08-04T16:29:08.976130Z"
    },
    "id": "JyR99cCf_vhs",
    "papermill": {
     "duration": 0.024024,
     "end_time": "2023-08-04T16:29:08.980109",
     "exception": false,
     "start_time": "2023-08-04T16:29:08.956085",
     "status": "completed"
    },
    "tags": []
   },
   "outputs": [],
   "source": [
    "import numpy as np"
   ]
  },
  {
   "cell_type": "code",
   "execution_count": 34,
   "id": "dd995c54",
   "metadata": {
    "execution": {
     "iopub.execute_input": "2023-08-04T16:29:09.011651Z",
     "iopub.status.busy": "2023-08-04T16:29:09.010978Z",
     "iopub.status.idle": "2023-08-04T16:29:09.016481Z",
     "shell.execute_reply": "2023-08-04T16:29:09.015216Z"
    },
    "id": "c0E4zO99AuEc",
    "papermill": {
     "duration": 0.024581,
     "end_time": "2023-08-04T16:29:09.019135",
     "exception": false,
     "start_time": "2023-08-04T16:29:08.994554",
     "status": "completed"
    },
    "tags": []
   },
   "outputs": [],
   "source": [
    "import matplotlib.pyplot as plt"
   ]
  },
  {
   "cell_type": "markdown",
   "id": "f021a1f7",
   "metadata": {
    "id": "bRukRNKoA4VL",
    "papermill": {
     "duration": 0.014009,
     "end_time": "2023-08-04T16:29:09.047514",
     "exception": false,
     "start_time": "2023-08-04T16:29:09.033505",
     "status": "completed"
    },
    "tags": []
   },
   "source": [
    "# **Import Data**"
   ]
  },
  {
   "cell_type": "code",
   "execution_count": 35,
   "id": "6551ffcf",
   "metadata": {
    "execution": {
     "iopub.execute_input": "2023-08-04T16:29:09.078670Z",
     "iopub.status.busy": "2023-08-04T16:29:09.078187Z",
     "iopub.status.idle": "2023-08-04T16:29:10.649059Z",
     "shell.execute_reply": "2023-08-04T16:29:10.647600Z"
    },
    "id": "qVGZMA-gA9wS",
    "papermill": {
     "duration": 1.590429,
     "end_time": "2023-08-04T16:29:10.652406",
     "exception": false,
     "start_time": "2023-08-04T16:29:09.061977",
     "status": "completed"
    },
    "tags": []
   },
   "outputs": [],
   "source": [
    "from sklearn.datasets import load_digits"
   ]
  },
  {
   "cell_type": "markdown",
   "id": "ed741402",
   "metadata": {
    "id": "FsQ-nMO6Be9X",
    "papermill": {
     "duration": 0.014221,
     "end_time": "2023-08-04T16:29:10.682811",
     "exception": false,
     "start_time": "2023-08-04T16:29:10.668590",
     "status": "completed"
    },
    "tags": []
   },
   "source": [
    "# **Describe Data**"
   ]
  },
  {
   "cell_type": "code",
   "execution_count": 36,
   "id": "9f5f9618",
   "metadata": {
    "execution": {
     "iopub.execute_input": "2023-08-04T16:29:10.714287Z",
     "iopub.status.busy": "2023-08-04T16:29:10.713792Z",
     "iopub.status.idle": "2023-08-04T16:29:10.744236Z",
     "shell.execute_reply": "2023-08-04T16:29:10.743145Z"
    },
    "id": "5TFthIsbEQlj",
    "papermill": {
     "duration": 0.049751,
     "end_time": "2023-08-04T16:29:10.747324",
     "exception": false,
     "start_time": "2023-08-04T16:29:10.697573",
     "status": "completed"
    },
    "tags": []
   },
   "outputs": [],
   "source": [
    "df = load_digits()"
   ]
  },
  {
   "cell_type": "markdown",
   "id": "a2f3c0a8",
   "metadata": {
    "id": "Iwdky6kTDw_y",
    "papermill": {
     "duration": 0.014633,
     "end_time": "2023-08-04T16:29:10.776925",
     "exception": false,
     "start_time": "2023-08-04T16:29:10.762292",
     "status": "completed"
    },
    "tags": []
   },
   "source": [
    "# **Data Visualization**"
   ]
  },
  {
   "cell_type": "code",
   "execution_count": 37,
   "id": "8ca5e488",
   "metadata": {
    "execution": {
     "iopub.execute_input": "2023-08-04T16:29:10.809027Z",
     "iopub.status.busy": "2023-08-04T16:29:10.807834Z",
     "iopub.status.idle": "2023-08-04T16:29:11.270213Z",
     "shell.execute_reply": "2023-08-04T16:29:11.268863Z"
    },
    "id": "dOGpR-sIElEO",
    "outputId": "1c72fa90-4376-41d5-e6cd-53e56cdd85be",
    "papermill": {
     "duration": 0.481745,
     "end_time": "2023-08-04T16:29:11.273419",
     "exception": false,
     "start_time": "2023-08-04T16:29:10.791674",
     "status": "completed"
    },
    "tags": []
   },
   "outputs": [
    {
     "data": {
      "image/png": "[encoded data removed]",
      "text/plain": [
       "<Figure size 1000x300 with 4 Axes>"
      ]
     },
     "metadata": {},
     "output_type": "display_data"
    }
   ],
   "source": [
    "_, axes = plt.subplots(nrows = 1, ncols = 4, figsize = (10, 3))\n",
    "for ax, image, label in zip(axes, df.images, df.target):\n",
    "    ax.set_axis_off()\n",
    "    ax.imshow(image, cmap=plt.cm.gray_r, interpolation = 'nearest')\n",
    "    ax.set_title('Training: %i' % label)"
   ]
  },
  {
   "cell_type": "markdown",
   "id": "5bf79b5a",
   "metadata": {
    "id": "38dBDVRlExIb",
    "papermill": {
     "duration": 0.014277,
     "end_time": "2023-08-04T16:29:11.303555",
     "exception": false,
     "start_time": "2023-08-04T16:29:11.289278",
     "status": "completed"
    },
    "tags": []
   },
   "source": [
    "# **Data Preprocessing**"
   ]
  },
  {
   "cell_type": "markdown",
   "id": "5fc3b1a0",
   "metadata": {
    "id": "sy2pPl1LE6R2",
    "papermill": {
     "duration": 0.01425,
     "end_time": "2023-08-04T16:29:11.332505",
     "exception": false,
     "start_time": "2023-08-04T16:29:11.318255",
     "status": "completed"
    },
    "tags": []
   },
   "source": [
    "### **Flatten Image**\n"
   ]
  },
  {
   "cell_type": "code",
   "execution_count": 38,
   "id": "76104b37",
   "metadata": {
    "execution": {
     "iopub.execute_input": "2023-08-04T16:29:11.364883Z",
     "iopub.status.busy": "2023-08-04T16:29:11.364438Z",
     "iopub.status.idle": "2023-08-04T16:29:11.372740Z",
     "shell.execute_reply": "2023-08-04T16:29:11.371158Z"
    },
    "id": "yBg9o1ybFNHs",
    "outputId": "9f76471a-f4e1-4953-b09d-c0818aa0468b",
    "papermill": {
     "duration": 0.028083,
     "end_time": "2023-08-04T16:29:11.376034",
     "exception": false,
     "start_time": "2023-08-04T16:29:11.347951",
     "status": "completed"
    },
    "tags": []
   },
   "outputs": [
    {
     "data": {
      "text/plain": [
       "(1797, 8, 8)"
      ]
     },
     "execution_count": 38,
     "metadata": {},
     "output_type": "execute_result"
    }
   ],
   "source": [
    "df.images.shape"
   ]
  },
  {
   "cell_type": "code",
   "execution_count": 39,
   "id": "7aa5e6b4",
   "metadata": {
    "execution": {
     "iopub.execute_input": "2023-08-04T16:29:11.409339Z",
     "iopub.status.busy": "2023-08-04T16:29:11.408853Z",
     "iopub.status.idle": "2023-08-04T16:29:11.417707Z",
     "shell.execute_reply": "2023-08-04T16:29:11.416758Z"
    },
    "id": "pSUHQdxrFAPS",
    "outputId": "0e90ac06-47f7-4007-ed0f-2c6401922ab8",
    "papermill": {
     "duration": 0.028023,
     "end_time": "2023-08-04T16:29:11.419915",
     "exception": false,
     "start_time": "2023-08-04T16:29:11.391892",
     "status": "completed"
    },
    "tags": []
   },
   "outputs": [
    {
     "data": {
      "text/plain": [
       "array([[ 0.,  0.,  5., 13.,  9.,  1.,  0.,  0.],\n",
       "       [ 0.,  0., 13., 15., 10., 15.,  5.,  0.],\n",
       "       [ 0.,  3., 15.,  2.,  0., 11.,  8.,  0.],\n",
       "       [ 0.,  4., 12.,  0.,  0.,  8.,  8.,  0.],\n",
       "       [ 0.,  5.,  8.,  0.,  0.,  9.,  8.,  0.],\n",
       "       [ 0.,  4., 11.,  0.,  1., 12.,  7.,  0.],\n",
       "       [ 0.,  2., 14.,  5., 10., 12.,  0.,  0.],\n",
       "       [ 0.,  0.,  6., 13., 10.,  0.,  0.,  0.]])"
      ]
     },
     "execution_count": 39,
     "metadata": {},
     "output_type": "execute_result"
    }
   ],
   "source": [
    "df.images[0]"
   ]
  },
  {
   "cell_type": "code",
   "execution_count": 40,
   "id": "ab4a5baa",
   "metadata": {
    "execution": {
     "iopub.execute_input": "2023-08-04T16:29:11.452763Z",
     "iopub.status.busy": "2023-08-04T16:29:11.451673Z",
     "iopub.status.idle": "2023-08-04T16:29:11.460088Z",
     "shell.execute_reply": "2023-08-04T16:29:11.458788Z"
    },
    "id": "AuEQaG75Gc61",
    "outputId": "6927f82e-e3a5-46e0-c166-4bcbe45e1ba8",
    "papermill": {
     "duration": 0.027836,
     "end_time": "2023-08-04T16:29:11.462876",
     "exception": false,
     "start_time": "2023-08-04T16:29:11.435040",
     "status": "completed"
    },
    "tags": []
   },
   "outputs": [
    {
     "data": {
      "text/plain": [
       "(8, 8)"
      ]
     },
     "execution_count": 40,
     "metadata": {},
     "output_type": "execute_result"
    }
   ],
   "source": [
    "df.images[0].shape"
   ]
  },
  {
   "cell_type": "code",
   "execution_count": 41,
   "id": "b7be8277",
   "metadata": {
    "execution": {
     "iopub.execute_input": "2023-08-04T16:29:11.497728Z",
     "iopub.status.busy": "2023-08-04T16:29:11.497257Z",
     "iopub.status.idle": "2023-08-04T16:29:11.503390Z",
     "shell.execute_reply": "2023-08-04T16:29:11.502068Z"
    },
    "id": "Xxkj2BvSGxIw",
    "papermill": {
     "duration": 0.026704,
     "end_time": "2023-08-04T16:29:11.505833",
     "exception": false,
     "start_time": "2023-08-04T16:29:11.479129",
     "status": "completed"
    },
    "tags": []
   },
   "outputs": [],
   "source": [
    "n_samples = len(df.images)\n",
    "data = df.images.reshape((n_samples, -1))"
   ]
  },
  {
   "cell_type": "code",
   "execution_count": 42,
   "id": "17f19599",
   "metadata": {
    "execution": {
     "iopub.execute_input": "2023-08-04T16:29:11.540129Z",
     "iopub.status.busy": "2023-08-04T16:29:11.539301Z",
     "iopub.status.idle": "2023-08-04T16:29:11.547089Z",
     "shell.execute_reply": "2023-08-04T16:29:11.545579Z"
    },
    "id": "-mHCQed0G25h",
    "outputId": "503ab4ec-4519-4b85-d3db-46d40ab6b0cf",
    "papermill": {
     "duration": 0.027619,
     "end_time": "2023-08-04T16:29:11.549747",
     "exception": false,
     "start_time": "2023-08-04T16:29:11.522128",
     "status": "completed"
    },
    "tags": []
   },
   "outputs": [
    {
     "data": {
      "text/plain": [
       "array([ 0.,  0.,  5., 13.,  9.,  1.,  0.,  0.,  0.,  0., 13., 15., 10.,\n",
       "       15.,  5.,  0.,  0.,  3., 15.,  2.,  0., 11.,  8.,  0.,  0.,  4.,\n",
       "       12.,  0.,  0.,  8.,  8.,  0.,  0.,  5.,  8.,  0.,  0.,  9.,  8.,\n",
       "        0.,  0.,  4., 11.,  0.,  1., 12.,  7.,  0.,  0.,  2., 14.,  5.,\n",
       "       10., 12.,  0.,  0.,  0.,  0.,  6., 13., 10.,  0.,  0.,  0.])"
      ]
     },
     "execution_count": 42,
     "metadata": {},
     "output_type": "execute_result"
    }
   ],
   "source": [
    "data[0]\n"
   ]
  },
  {
   "cell_type": "code",
   "execution_count": 43,
   "id": "87b9a0ee",
   "metadata": {
    "execution": {
     "iopub.execute_input": "2023-08-04T16:29:11.583398Z",
     "iopub.status.busy": "2023-08-04T16:29:11.582855Z",
     "iopub.status.idle": "2023-08-04T16:29:11.590693Z",
     "shell.execute_reply": "2023-08-04T16:29:11.589301Z"
    },
    "id": "I3zIngciG_1z",
    "outputId": "fb7ee9c8-ba57-41a7-a56f-b2a440451836",
    "papermill": {
     "duration": 0.028,
     "end_time": "2023-08-04T16:29:11.593349",
     "exception": false,
     "start_time": "2023-08-04T16:29:11.565349",
     "status": "completed"
    },
    "tags": []
   },
   "outputs": [
    {
     "data": {
      "text/plain": [
       "(64,)"
      ]
     },
     "execution_count": 43,
     "metadata": {},
     "output_type": "execute_result"
    }
   ],
   "source": [
    "data[0].shape"
   ]
  },
  {
   "cell_type": "code",
   "execution_count": 44,
   "id": "530470e7",
   "metadata": {
    "execution": {
     "iopub.execute_input": "2023-08-04T16:29:11.629590Z",
     "iopub.status.busy": "2023-08-04T16:29:11.629084Z",
     "iopub.status.idle": "2023-08-04T16:29:11.636735Z",
     "shell.execute_reply": "2023-08-04T16:29:11.635545Z"
    },
    "id": "YNhI-51mHGOH",
    "outputId": "eaeeae6c-83f3-4a67-cc66-d32f30a14f84",
    "papermill": {
     "duration": 0.029176,
     "end_time": "2023-08-04T16:29:11.639540",
     "exception": false,
     "start_time": "2023-08-04T16:29:11.610364",
     "status": "completed"
    },
    "tags": []
   },
   "outputs": [
    {
     "data": {
      "text/plain": [
       "(1797, 64)"
      ]
     },
     "execution_count": 44,
     "metadata": {},
     "output_type": "execute_result"
    }
   ],
   "source": [
    "data.shape"
   ]
  },
  {
   "cell_type": "markdown",
   "id": "a016707c",
   "metadata": {
    "id": "qlN46w3kIQCW",
    "papermill": {
     "duration": 0.015228,
     "end_time": "2023-08-04T16:29:11.670774",
     "exception": false,
     "start_time": "2023-08-04T16:29:11.655546",
     "status": "completed"
    },
    "tags": []
   },
   "source": [
    "# **Scaling Data**"
   ]
  },
  {
   "cell_type": "code",
   "execution_count": 62,
   "id": "6ca82475",
   "metadata": {
    "execution": {
     "iopub.execute_input": "2023-08-04T16:29:11.705453Z",
     "iopub.status.busy": "2023-08-04T16:29:11.703844Z",
     "iopub.status.idle": "2023-08-04T16:29:11.713038Z",
     "shell.execute_reply": "2023-08-04T16:29:11.711584Z"
    },
    "id": "IXon6NZrJT1W",
    "outputId": "25007115-5a82-4e4f-ebb2-3bd4dafdaf23",
    "papermill": {
     "duration": 0.029115,
     "end_time": "2023-08-04T16:29:11.715543",
     "exception": false,
     "start_time": "2023-08-04T16:29:11.686428",
     "status": "completed"
    },
    "tags": []
   },
   "outputs": [
    {
     "data": {
      "text/plain": [
       "np.float64(0.0)"
      ]
     },
     "execution_count": 62,
     "metadata": {},
     "output_type": "execute_result"
    }
   ],
   "source": [
    "data.min()"
   ]
  },
  {
   "cell_type": "code",
   "execution_count": 63,
   "id": "1b155e66",
   "metadata": {
    "execution": {
     "iopub.execute_input": "2023-08-04T16:29:11.751178Z",
     "iopub.status.busy": "2023-08-04T16:29:11.750302Z",
     "iopub.status.idle": "2023-08-04T16:29:11.757287Z",
     "shell.execute_reply": "2023-08-04T16:29:11.756199Z"
    },
    "id": "pWKkuqQyJhWS",
    "outputId": "a3d5bdb0-af83-4cbe-817f-2a86191d9e57",
    "papermill": {
     "duration": 0.027286,
     "end_time": "2023-08-04T16:29:11.759882",
     "exception": false,
     "start_time": "2023-08-04T16:29:11.732596",
     "status": "completed"
    },
    "tags": []
   },
   "outputs": [
    {
     "data": {
      "text/plain": [
       "np.float64(1.0)"
      ]
     },
     "execution_count": 63,
     "metadata": {},
     "output_type": "execute_result"
    }
   ],
   "source": [
    "data.max()"
   ]
  },
  {
   "cell_type": "code",
   "execution_count": 47,
   "id": "31718956",
   "metadata": {
    "execution": {
     "iopub.execute_input": "2023-08-04T16:29:11.794577Z",
     "iopub.status.busy": "2023-08-04T16:29:11.793706Z",
     "iopub.status.idle": "2023-08-04T16:29:11.798795Z",
     "shell.execute_reply": "2023-08-04T16:29:11.797897Z"
    },
    "id": "yEvCCvaEJnPl",
    "papermill": {
     "duration": 0.025251,
     "end_time": "2023-08-04T16:29:11.801289",
     "exception": false,
     "start_time": "2023-08-04T16:29:11.776038",
     "status": "completed"
    },
    "tags": []
   },
   "outputs": [],
   "source": [
    "data = data/16"
   ]
  },
  {
   "cell_type": "code",
   "execution_count": 48,
   "id": "04f420ff",
   "metadata": {
    "execution": {
     "iopub.execute_input": "2023-08-04T16:29:11.835424Z",
     "iopub.status.busy": "2023-08-04T16:29:11.834919Z",
     "iopub.status.idle": "2023-08-04T16:29:11.842865Z",
     "shell.execute_reply": "2023-08-04T16:29:11.841732Z"
    },
    "id": "_SSOMBxxJv94",
    "outputId": "8aec75e1-37cb-4091-fa38-126bc7cb7d6b",
    "papermill": {
     "duration": 0.027765,
     "end_time": "2023-08-04T16:29:11.845194",
     "exception": false,
     "start_time": "2023-08-04T16:29:11.817429",
     "status": "completed"
    },
    "tags": []
   },
   "outputs": [
    {
     "data": {
      "text/plain": [
       "np.float64(0.0)"
      ]
     },
     "execution_count": 48,
     "metadata": {},
     "output_type": "execute_result"
    }
   ],
   "source": [
    "data.min()"
   ]
  },
  {
   "cell_type": "code",
   "execution_count": 49,
   "id": "afc26c46",
   "metadata": {
    "execution": {
     "iopub.execute_input": "2023-08-04T16:29:11.880273Z",
     "iopub.status.busy": "2023-08-04T16:29:11.879763Z",
     "iopub.status.idle": "2023-08-04T16:29:11.887895Z",
     "shell.execute_reply": "2023-08-04T16:29:11.886992Z"
    },
    "id": "mGcF8vtLJ2BY",
    "outputId": "4f734858-ee96-49ff-fdbe-3b4fbb6d0768",
    "papermill": {
     "duration": 0.029228,
     "end_time": "2023-08-04T16:29:11.890870",
     "exception": false,
     "start_time": "2023-08-04T16:29:11.861642",
     "status": "completed"
    },
    "tags": []
   },
   "outputs": [
    {
     "data": {
      "text/plain": [
       "np.float64(1.0)"
      ]
     },
     "execution_count": 49,
     "metadata": {},
     "output_type": "execute_result"
    }
   ],
   "source": [
    "data.max()"
   ]
  },
  {
   "cell_type": "code",
   "execution_count": 50,
   "id": "0c8fd408",
   "metadata": {
    "execution": {
     "iopub.execute_input": "2023-08-04T16:29:11.930621Z",
     "iopub.status.busy": "2023-08-04T16:29:11.929226Z",
     "iopub.status.idle": "2023-08-04T16:29:11.939035Z",
     "shell.execute_reply": "2023-08-04T16:29:11.937799Z"
    },
    "id": "X6fVwqBQJ6vp",
    "outputId": "c9f614e1-d9e8-41bd-e4cc-183ecb7e8c4f",
    "papermill": {
     "duration": 0.034091,
     "end_time": "2023-08-04T16:29:11.941866",
     "exception": false,
     "start_time": "2023-08-04T16:29:11.907775",
     "status": "completed"
    },
    "tags": []
   },
   "outputs": [
    {
     "data": {
      "text/plain": [
       "array([0.    , 0.    , 0.3125, 0.8125, 0.5625, 0.0625, 0.    , 0.    ,\n",
       "       0.    , 0.    , 0.8125, 0.9375, 0.625 , 0.9375, 0.3125, 0.    ,\n",
       "       0.    , 0.1875, 0.9375, 0.125 , 0.    , 0.6875, 0.5   , 0.    ,\n",
       "       0.    , 0.25  , 0.75  , 0.    , 0.    , 0.5   , 0.5   , 0.    ,\n",
       "       0.    , 0.3125, 0.5   , 0.    , 0.    , 0.5625, 0.5   , 0.    ,\n",
       "       0.    , 0.25  , 0.6875, 0.    , 0.0625, 0.75  , 0.4375, 0.    ,\n",
       "       0.    , 0.125 , 0.875 , 0.3125, 0.625 , 0.75  , 0.    , 0.    ,\n",
       "       0.    , 0.    , 0.375 , 0.8125, 0.625 , 0.    , 0.    , 0.    ])"
      ]
     },
     "execution_count": 50,
     "metadata": {},
     "output_type": "execute_result"
    }
   ],
   "source": [
    "data[0]"
   ]
  },
  {
   "cell_type": "markdown",
   "id": "bc531491",
   "metadata": {
    "id": "_d9reeJwKHXR",
    "papermill": {
     "duration": 0.016067,
     "end_time": "2023-08-04T16:29:11.974682",
     "exception": false,
     "start_time": "2023-08-04T16:29:11.958615",
     "status": "completed"
    },
    "tags": []
   },
   "source": [
    "# **Train test split Data**"
   ]
  },
  {
   "cell_type": "code",
   "execution_count": 51,
   "id": "84ef0f13",
   "metadata": {
    "execution": {
     "iopub.execute_input": "2023-08-04T16:29:12.010613Z",
     "iopub.status.busy": "2023-08-04T16:29:12.010075Z",
     "iopub.status.idle": "2023-08-04T16:29:12.144197Z",
     "shell.execute_reply": "2023-08-04T16:29:12.142773Z"
    },
    "id": "FWmf0Te-KMcf",
    "papermill": {
     "duration": 0.15583,
     "end_time": "2023-08-04T16:29:12.147466",
     "exception": false,
     "start_time": "2023-08-04T16:29:11.991636",
     "status": "completed"
    },
    "tags": []
   },
   "outputs": [],
   "source": [
    "from sklearn.model_selection import train_test_split"
   ]
  },
  {
   "cell_type": "code",
   "execution_count": 52,
   "id": "cf2a0593",
   "metadata": {
    "execution": {
     "iopub.execute_input": "2023-08-04T16:29:12.183554Z",
     "iopub.status.busy": "2023-08-04T16:29:12.182559Z",
     "iopub.status.idle": "2023-08-04T16:29:12.189725Z",
     "shell.execute_reply": "2023-08-04T16:29:12.188580Z"
    },
    "id": "DkYgWMVWKUTF",
    "papermill": {
     "duration": 0.028185,
     "end_time": "2023-08-04T16:29:12.192420",
     "exception": false,
     "start_time": "2023-08-04T16:29:12.164235",
     "status": "completed"
    },
    "tags": []
   },
   "outputs": [],
   "source": [
    "xtrain, xtest, ytrain, ytest = train_test_split(data, df.target, test_size = 0.3)"
   ]
  },
  {
   "cell_type": "code",
   "execution_count": 53,
   "id": "6de88b29",
   "metadata": {
    "execution": {
     "iopub.execute_input": "2023-08-04T16:29:12.227993Z",
     "iopub.status.busy": "2023-08-04T16:29:12.227253Z",
     "iopub.status.idle": "2023-08-04T16:29:12.235223Z",
     "shell.execute_reply": "2023-08-04T16:29:12.233989Z"
    },
    "id": "YVTrdv1HKYm2",
    "outputId": "8edc723d-b816-4e54-9719-4d85ac2372dd",
    "papermill": {
     "duration": 0.028929,
     "end_time": "2023-08-04T16:29:12.237682",
     "exception": false,
     "start_time": "2023-08-04T16:29:12.208753",
     "status": "completed"
    },
    "tags": []
   },
   "outputs": [
    {
     "data": {
      "text/plain": [
       "((1257, 64), (540, 64), (1257,), (540,))"
      ]
     },
     "execution_count": 53,
     "metadata": {},
     "output_type": "execute_result"
    }
   ],
   "source": [
    "xtrain.shape, xtest.shape, ytrain.shape, ytest.shape"
   ]
  },
  {
   "cell_type": "markdown",
   "id": "789310e3",
   "metadata": {
    "id": "TjfzCy1hLHgE",
    "papermill": {
     "duration": 0.016029,
     "end_time": "2023-08-04T16:29:12.270223",
     "exception": false,
     "start_time": "2023-08-04T16:29:12.254194",
     "status": "completed"
    },
    "tags": []
   },
   "source": [
    "# **Modeling**"
   ]
  },
  {
   "cell_type": "markdown",
   "id": "658ba8e0",
   "metadata": {
    "id": "8WAIp_RNLa5F",
    "papermill": {
     "duration": 0.016109,
     "end_time": "2023-08-04T16:29:12.302826",
     "exception": false,
     "start_time": "2023-08-04T16:29:12.286717",
     "status": "completed"
    },
    "tags": []
   },
   "source": [
    "### **Random Forest model**"
   ]
  },
  {
   "cell_type": "code",
   "execution_count": 54,
   "id": "44ff88f0",
   "metadata": {
    "execution": {
     "iopub.execute_input": "2023-08-04T16:29:12.337932Z",
     "iopub.status.busy": "2023-08-04T16:29:12.337428Z",
     "iopub.status.idle": "2023-08-04T16:29:12.812521Z",
     "shell.execute_reply": "2023-08-04T16:29:12.811429Z"
    },
    "id": "XoB29gGkLL7W",
    "papermill": {
     "duration": 0.496141,
     "end_time": "2023-08-04T16:29:12.815455",
     "exception": false,
     "start_time": "2023-08-04T16:29:12.319314",
     "status": "completed"
    },
    "tags": []
   },
   "outputs": [],
   "source": [
    "from sklearn.ensemble import RandomForestClassifier"
   ]
  },
  {
   "cell_type": "code",
   "execution_count": 55,
   "id": "e1fce3ee",
   "metadata": {
    "execution": {
     "iopub.execute_input": "2023-08-04T16:29:12.851512Z",
     "iopub.status.busy": "2023-08-04T16:29:12.850662Z",
     "iopub.status.idle": "2023-08-04T16:29:12.855286Z",
     "shell.execute_reply": "2023-08-04T16:29:12.854425Z"
    },
    "id": "139leh2qLmDR",
    "papermill": {
     "duration": 0.025212,
     "end_time": "2023-08-04T16:29:12.857586",
     "exception": false,
     "start_time": "2023-08-04T16:29:12.832374",
     "status": "completed"
    },
    "tags": []
   },
   "outputs": [],
   "source": [
    "rf = RandomForestClassifier()"
   ]
  },
  {
   "cell_type": "markdown",
   "id": "9fe4f9e1",
   "metadata": {
    "id": "Wg0qQXPIMbDL",
    "papermill": {
     "duration": 0.016209,
     "end_time": "2023-08-04T16:29:12.890487",
     "exception": false,
     "start_time": "2023-08-04T16:29:12.874278",
     "status": "completed"
    },
    "tags": []
   },
   "source": [
    "### **Train or Fit Model**"
   ]
  },
  {
   "cell_type": "code",
   "execution_count": 56,
   "id": "1b658f55",
   "metadata": {
    "execution": {
     "iopub.execute_input": "2023-08-04T16:29:12.928373Z",
     "iopub.status.busy": "2023-08-04T16:29:12.927516Z",
     "iopub.status.idle": "2023-08-04T16:29:13.395502Z",
     "shell.execute_reply": "2023-08-04T16:29:13.394097Z"
    },
    "id": "vp-2DHLVLs4T",
    "outputId": "da61d3e8-5902-47fa-d9e0-f73c24e1c1e4",
    "papermill": {
     "duration": 0.490882,
     "end_time": "2023-08-04T16:29:13.398241",
     "exception": false,
     "start_time": "2023-08-04T16:29:12.907359",
     "status": "completed"
    },
    "tags": []
   },
   "outputs": [
    {
     "data": {
      "text/html": [
       "<style>#sk-container-id-2 {\n",
       "  /* Definition of color scheme common for light and dark mode */\n",
       "  --sklearn-color-text: black;\n",
       "  --sklearn-color-line: gray;\n",
       "  /* Definition of color scheme for unfitted estimators */\n",
       "  --sklearn-color-unfitted-level-0: #fff5e6;\n",
       "  --sklearn-color-unfitted-level-1: #f6e4d2;\n",
       "  --sklearn-color-unfitted-level-2: #ffe0b3;\n",
       "  --sklearn-color-unfitted-level-3: chocolate;\n",
       "  /* Definition of color scheme for fitted estimators */\n",
       "  --sklearn-color-fitted-level-0: #f0f8ff;\n",
       "  --sklearn-color-fitted-level-1: #d4ebff;\n",
       "  --sklearn-color-fitted-level-2: #b3dbfd;\n",
       "  --sklearn-color-fitted-level-3: cornflowerblue;\n",
       "\n",
       "  /* Specific color for light theme */\n",
       "  --sklearn-color-text-on-default-background: var(--sg-text-color, var(--theme-code-foreground, var(--jp-content-font-color1, black)));\n",
       "  --sklearn-color-background: var(--sg-background-color, var(--theme-background, var(--jp-layout-color0, white)));\n",
       "  --sklearn-color-border-box: var(--sg-text-color, var(--theme-code-foreground, var(--jp-content-font-color1, black)));\n",
       "  --sklearn-color-icon: #696969;\n",
       "\n",
       "  @media (prefers-color-scheme: dark) {\n",
       "    /* Redefinition of color scheme for dark theme */\n",
       "    --sklearn-color-text-on-default-background: var(--sg-text-color, var(--theme-code-foreground, var(--jp-content-font-color1, white)));\n",
       "    --sklearn-color-background: var(--sg-background-color, var(--theme-background, var(--jp-layout-color0, #111)));\n",
       "    --sklearn-color-border-box: var(--sg-text-color, var(--theme-code-foreground, var(--jp-content-font-color1, white)));\n",
       "    --sklearn-color-icon: #878787;\n",
       "  }\n",
       "}\n",
       "\n",
       "#sk-container-id-2 {\n",
       "  color: var(--sklearn-color-text);\n",
       "}\n",
       "\n",
       "#sk-container-id-2 pre {\n",
       "  padding: 0;\n",
       "}\n",
       "\n",
       "#sk-container-id-2 input.sk-hidden--visually {\n",
       "  border: 0;\n",
       "  clip: rect(1px 1px 1px 1px);\n",
       "  clip: rect(1px, 1px, 1px, 1px);\n",
       "  height: 1px;\n",
       "  margin: -1px;\n",
       "  overflow: hidden;\n",
       "  padding: 0;\n",
       "  position: absolute;\n",
       "  width: 1px;\n",
       "}\n",
       "\n",
       "#sk-container-id-2 div.sk-dashed-wrapped {\n",
       "  border: 1px dashed var(--sklearn-color-line);\n",
       "  margin: 0 0.4em 0.5em 0.4em;\n",
       "  box-sizing: border-box;\n",
       "  padding-bottom: 0.4em;\n",
       "  background-color: var(--sklearn-color-background);\n",
       "}\n",
       "\n",
       "#sk-container-id-2 div.sk-container {\n",
       "  /* jupyter's `normalize.less` sets `[hidden] { display: none; }`\n",
       "     but bootstrap.min.css set `[hidden] { display: none !important; }`\n",
       "     so we also need the `!important` here to be able to override the\n",
       "     default hidden behavior on the sphinx rendered scikit-learn.org.\n",
       "     See: https://github.com/scikit-learn/scikit-learn/issues/21755 */\n",
       "  display: inline-block !important;\n",
       "  position: relative;\n",
       "}\n",
       "\n",
       "#sk-container-id-2 div.sk-text-repr-fallback {\n",
       "  display: none;\n",
       "}\n",
       "\n",
       "div.sk-parallel-item,\n",
       "div.sk-serial,\n",
       "div.sk-item {\n",
       "  /* draw centered vertical line to link estimators */\n",
       "  background-image: linear-gradient(var(--sklearn-color-text-on-default-background), var(--sklearn-color-text-on-default-background));\n",
       "  background-size: 2px 100%;\n",
       "  background-repeat: no-repeat;\n",
       "  background-position: center center;\n",
       "}\n",
       "\n",
       "/* Parallel-specific style estimator block */\n",
       "\n",
       "#sk-container-id-2 div.sk-parallel-item::after {\n",
       "  content: \"\";\n",
       "  width: 100%;\n",
       "  border-bottom: 2px solid var(--sklearn-color-text-on-default-background);\n",
       "  flex-grow: 1;\n",
       "}\n",
       "\n",
       "#sk-container-id-2 div.sk-parallel {\n",
       "  display: flex;\n",
       "  align-items: stretch;\n",
       "  justify-content: center;\n",
       "  background-color: var(--sklearn-color-background);\n",
       "  position: relative;\n",
       "}\n",
       "\n",
       "#sk-container-id-2 div.sk-parallel-item {\n",
       "  display: flex;\n",
       "  flex-direction: column;\n",
       "}\n",
       "\n",
       "#sk-container-id-2 div.sk-parallel-item:first-child::after {\n",
       "  align-self: flex-end;\n",
       "  width: 50%;\n",
       "}\n",
       "\n",
       "#sk-container-id-2 div.sk-parallel-item:last-child::after {\n",
       "  align-self: flex-start;\n",
       "  width: 50%;\n",
       "}\n",
       "\n",
       "#sk-container-id-2 div.sk-parallel-item:only-child::after {\n",
       "  width: 0;\n",
       "}\n",
       "\n",
       "/* Serial-specific style estimator block */\n",
       "\n",
       "#sk-container-id-2 div.sk-serial {\n",
       "  display: flex;\n",
       "  flex-direction: column;\n",
       "  align-items: center;\n",
       "  background-color: var(--sklearn-color-background);\n",
       "  padding-right: 1em;\n",
       "  padding-left: 1em;\n",
       "}\n",
       "\n",
       "\n",
       "/* Toggleable style: style used for estimator/Pipeline/ColumnTransformer box that is\n",
       "clickable and can be expanded/collapsed.\n",
       "- Pipeline and ColumnTransformer use this feature and define the default style\n",
       "- Estimators will overwrite some part of the style using the `sk-estimator` class\n",
       "*/\n",
       "\n",
       "/* Pipeline and ColumnTransformer style (default) */\n",
       "\n",
       "#sk-container-id-2 div.sk-toggleable {\n",
       "  /* Default theme specific background. It is overwritten whether we have a\n",
       "  specific estimator or a Pipeline/ColumnTransformer */\n",
       "  background-color: var(--sklearn-color-background);\n",
       "}\n",
       "\n",
       "/* Toggleable label */\n",
       "#sk-container-id-2 label.sk-toggleable__label {\n",
       "  cursor: pointer;\n",
       "  display: block;\n",
       "  width: 100%;\n",
       "  margin-bottom: 0;\n",
       "  padding: 0.5em;\n",
       "  box-sizing: border-box;\n",
       "  text-align: center;\n",
       "}\n",
       "\n",
       "#sk-container-id-2 label.sk-toggleable__label-arrow:before {\n",
       "  /* Arrow on the left of the label */\n",
       "  content: \"▸\";\n",
       "  float: left;\n",
       "  margin-right: 0.25em;\n",
       "  color: var(--sklearn-color-icon);\n",
       "}\n",
       "\n",
       "#sk-container-id-2 label.sk-toggleable__label-arrow:hover:before {\n",
       "  color: var(--sklearn-color-text);\n",
       "}\n",
       "\n",
       "/* Toggleable content - dropdown */\n",
       "\n",
       "#sk-container-id-2 div.sk-toggleable__content {\n",
       "  max-height: 0;\n",
       "  max-width: 0;\n",
       "  overflow: hidden;\n",
       "  text-align: left;\n",
       "  /* unfitted */\n",
       "  background-color: var(--sklearn-color-unfitted-level-0);\n",
       "}\n",
       "\n",
       "#sk-container-id-2 div.sk-toggleable__content.fitted {\n",
       "  /* fitted */\n",
       "  background-color: var(--sklearn-color-fitted-level-0);\n",
       "}\n",
       "\n",
       "#sk-container-id-2 div.sk-toggleable__content pre {\n",
       "  margin: 0.2em;\n",
       "  border-radius: 0.25em;\n",
       "  color: var(--sklearn-color-text);\n",
       "  /* unfitted */\n",
       "  background-color: var(--sklearn-color-unfitted-level-0);\n",
       "}\n",
       "\n",
       "#sk-container-id-2 div.sk-toggleable__content.fitted pre {\n",
       "  /* unfitted */\n",
       "  background-color: var(--sklearn-color-fitted-level-0);\n",
       "}\n",
       "\n",
       "#sk-container-id-2 input.sk-toggleable__control:checked~div.sk-toggleable__content {\n",
       "  /* Expand drop-down */\n",
       "  max-height: 200px;\n",
       "  max-width: 100%;\n",
       "  overflow: auto;\n",
       "}\n",
       "\n",
       "#sk-container-id-2 input.sk-toggleable__control:checked~label.sk-toggleable__label-arrow:before {\n",
       "  content: \"▾\";\n",
       "}\n",
       "\n",
       "/* Pipeline/ColumnTransformer-specific style */\n",
       "\n",
       "#sk-container-id-2 div.sk-label input.sk-toggleable__control:checked~label.sk-toggleable__label {\n",
       "  color: var(--sklearn-color-text);\n",
       "  background-color: var(--sklearn-color-unfitted-level-2);\n",
       "}\n",
       "\n",
       "#sk-container-id-2 div.sk-label.fitted input.sk-toggleable__control:checked~label.sk-toggleable__label {\n",
       "  background-color: var(--sklearn-color-fitted-level-2);\n",
       "}\n",
       "\n",
       "/* Estimator-specific style */\n",
       "\n",
       "/* Colorize estimator box */\n",
       "#sk-container-id-2 div.sk-estimator input.sk-toggleable__control:checked~label.sk-toggleable__label {\n",
       "  /* unfitted */\n",
       "  background-color: var(--sklearn-color-unfitted-level-2);\n",
       "}\n",
       "\n",
       "#sk-container-id-2 div.sk-estimator.fitted input.sk-toggleable__control:checked~label.sk-toggleable__label {\n",
       "  /* fitted */\n",
       "  background-color: var(--sklearn-color-fitted-level-2);\n",
       "}\n",
       "\n",
       "#sk-container-id-2 div.sk-label label.sk-toggleable__label,\n",
       "#sk-container-id-2 div.sk-label label {\n",
       "  /* The background is the default theme color */\n",
       "  color: var(--sklearn-color-text-on-default-background);\n",
       "}\n",
       "\n",
       "/* On hover, darken the color of the background */\n",
       "#sk-container-id-2 div.sk-label:hover label.sk-toggleable__label {\n",
       "  color: var(--sklearn-color-text);\n",
       "  background-color: var(--sklearn-color-unfitted-level-2);\n",
       "}\n",
       "\n",
       "/* Label box, darken color on hover, fitted */\n",
       "#sk-container-id-2 div.sk-label.fitted:hover label.sk-toggleable__label.fitted {\n",
       "  color: var(--sklearn-color-text);\n",
       "  background-color: var(--sklearn-color-fitted-level-2);\n",
       "}\n",
       "\n",
       "/* Estimator label */\n",
       "\n",
       "#sk-container-id-2 div.sk-label label {\n",
       "  font-family: monospace;\n",
       "  font-weight: bold;\n",
       "  display: inline-block;\n",
       "  line-height: 1.2em;\n",
       "}\n",
       "\n",
       "#sk-container-id-2 div.sk-label-container {\n",
       "  text-align: center;\n",
       "}\n",
       "\n",
       "/* Estimator-specific */\n",
       "#sk-container-id-2 div.sk-estimator {\n",
       "  font-family: monospace;\n",
       "  border: 1px dotted var(--sklearn-color-border-box);\n",
       "  border-radius: 0.25em;\n",
       "  box-sizing: border-box;\n",
       "  margin-bottom: 0.5em;\n",
       "  /* unfitted */\n",
       "  background-color: var(--sklearn-color-unfitted-level-0);\n",
       "}\n",
       "\n",
       "#sk-container-id-2 div.sk-estimator.fitted {\n",
       "  /* fitted */\n",
       "  background-color: var(--sklearn-color-fitted-level-0);\n",
       "}\n",
       "\n",
       "/* on hover */\n",
       "#sk-container-id-2 div.sk-estimator:hover {\n",
       "  /* unfitted */\n",
       "  background-color: var(--sklearn-color-unfitted-level-2);\n",
       "}\n",
       "\n",
       "#sk-container-id-2 div.sk-estimator.fitted:hover {\n",
       "  /* fitted */\n",
       "  background-color: var(--sklearn-color-fitted-level-2);\n",
       "}\n",
       "\n",
       "/* Specification for estimator info (e.g. \"i\" and \"?\") */\n",
       "\n",
       "/* Common style for \"i\" and \"?\" */\n",
       "\n",
       ".sk-estimator-doc-link,\n",
       "a:link.sk-estimator-doc-link,\n",
       "a:visited.sk-estimator-doc-link {\n",
       "  float: right;\n",
       "  font-size: smaller;\n",
       "  line-height: 1em;\n",
       "  font-family: monospace;\n",
       "  background-color: var(--sklearn-color-background);\n",
       "  border-radius: 1em;\n",
       "  height: 1em;\n",
       "  width: 1em;\n",
       "  text-decoration: none !important;\n",
       "  margin-left: 1ex;\n",
       "  /* unfitted */\n",
       "  border: var(--sklearn-color-unfitted-level-1) 1pt solid;\n",
       "  color: var(--sklearn-color-unfitted-level-1);\n",
       "}\n",
       "\n",
       ".sk-estimator-doc-link.fitted,\n",
       "a:link.sk-estimator-doc-link.fitted,\n",
       "a:visited.sk-estimator-doc-link.fitted {\n",
       "  /* fitted */\n",
       "  border: var(--sklearn-color-fitted-level-1) 1pt solid;\n",
       "  color: var(--sklearn-color-fitted-level-1);\n",
       "}\n",
       "\n",
       "/* On hover */\n",
       "div.sk-estimator:hover .sk-estimator-doc-link:hover,\n",
       ".sk-estimator-doc-link:hover,\n",
       "div.sk-label-container:hover .sk-estimator-doc-link:hover,\n",
       ".sk-estimator-doc-link:hover {\n",
       "  /* unfitted */\n",
       "  background-color: var(--sklearn-color-unfitted-level-3);\n",
       "  color: var(--sklearn-color-background);\n",
       "  text-decoration: none;\n",
       "}\n",
       "\n",
       "div.sk-estimator.fitted:hover .sk-estimator-doc-link.fitted:hover,\n",
       ".sk-estimator-doc-link.fitted:hover,\n",
       "div.sk-label-container:hover .sk-estimator-doc-link.fitted:hover,\n",
       ".sk-estimator-doc-link.fitted:hover {\n",
       "  /* fitted */\n",
       "  background-color: var(--sklearn-color-fitted-level-3);\n",
       "  color: var(--sklearn-color-background);\n",
       "  text-decoration: none;\n",
       "}\n",
       "\n",
       "/* Span, style for the box shown on hovering the info icon */\n",
       ".sk-estimator-doc-link span {\n",
       "  display: none;\n",
       "  z-index: 9999;\n",
       "  position: relative;\n",
       "  font-weight: normal;\n",
       "  right: .2ex;\n",
       "  padding: .5ex;\n",
       "  margin: .5ex;\n",
       "  width: min-content;\n",
       "  min-width: 20ex;\n",
       "  max-width: 50ex;\n",
       "  color: var(--sklearn-color-text);\n",
       "  box-shadow: 2pt 2pt 4pt #999;\n",
       "  /* unfitted */\n",
       "  background: var(--sklearn-color-unfitted-level-0);\n",
       "  border: .5pt solid var(--sklearn-color-unfitted-level-3);\n",
       "}\n",
       "\n",
       ".sk-estimator-doc-link.fitted span {\n",
       "  /* fitted */\n",
       "  background: var(--sklearn-color-fitted-level-0);\n",
       "  border: var(--sklearn-color-fitted-level-3);\n",
       "}\n",
       "\n",
       ".sk-estimator-doc-link:hover span {\n",
       "  display: block;\n",
       "}\n",
       "\n",
       "/* \"?\"-specific style due to the `<a>` HTML tag */\n",
       "\n",
       "#sk-container-id-2 a.estimator_doc_link {\n",
       "  float: right;\n",
       "  font-size: 1rem;\n",
       "  line-height: 1em;\n",
       "  font-family: monospace;\n",
       "  background-color: var(--sklearn-color-background);\n",
       "  border-radius: 1rem;\n",
       "  height: 1rem;\n",
       "  width: 1rem;\n",
       "  text-decoration: none;\n",
       "  /* unfitted */\n",
       "  color: var(--sklearn-color-unfitted-level-1);\n",
       "  border: var(--sklearn-color-unfitted-level-1) 1pt solid;\n",
       "}\n",
       "\n",
       "#sk-container-id-2 a.estimator_doc_link.fitted {\n",
       "  /* fitted */\n",
       "  border: var(--sklearn-color-fitted-level-1) 1pt solid;\n",
       "  color: var(--sklearn-color-fitted-level-1);\n",
       "}\n",
       "\n",
       "/* On hover */\n",
       "#sk-container-id-2 a.estimator_doc_link:hover {\n",
       "  /* unfitted */\n",
       "  background-color: var(--sklearn-color-unfitted-level-3);\n",
       "  color: var(--sklearn-color-background);\n",
       "  text-decoration: none;\n",
       "}\n",
       "\n",
       "#sk-container-id-2 a.estimator_doc_link.fitted:hover {\n",
       "  /* fitted */\n",
       "  background-color: var(--sklearn-color-fitted-level-3);\n",
       "}\n",
       "</style><div id=\"sk-container-id-2\" class=\"sk-top-container\"><div class=\"sk-text-repr-fallback\"><pre>RandomForestClassifier()</pre><b>In a Jupyter environment, please rerun this cell to show the HTML representation or trust the notebook. <br />On GitHub, the HTML representation is unable to render, please try loading this page with nbviewer.org.</b></div><div class=\"sk-container\" hidden><div class=\"sk-item\"><div class=\"sk-estimator fitted sk-toggleable\"><input class=\"sk-toggleable__control sk-hidden--visually\" id=\"sk-estimator-id-2\" type=\"checkbox\" checked><label for=\"sk-estimator-id-2\" class=\"sk-toggleable__label fitted sk-toggleable__label-arrow fitted\">&nbsp;&nbsp;RandomForestClassifier<a class=\"sk-estimator-doc-link fitted\" rel=\"noreferrer\" target=\"_blank\" href=\"https://scikit-learn.org/1.5/modules/generated/sklearn.ensemble.RandomForestClassifier.html\">?<span>Documentation for RandomForestClassifier</span></a><span class=\"sk-estimator-doc-link fitted\">i<span>Fitted</span></span></label><div class=\"sk-toggleable__content fitted\"><pre>RandomForestClassifier()</pre></div> </div></div></div></div>"
      ],
      "text/plain": [
       "RandomForestClassifier()"
      ]
     },
     "execution_count": 56,
     "metadata": {},
     "output_type": "execute_result"
    }
   ],
   "source": [
    "rf.fit(xtrain, ytrain)"
   ]
  },
  {
   "cell_type": "markdown",
   "id": "fb8a7f09",
   "metadata": {
    "id": "9SOPoN9TNYFb",
    "papermill": {
     "duration": 0.016487,
     "end_time": "2023-08-04T16:29:13.432273",
     "exception": false,
     "start_time": "2023-08-04T16:29:13.415786",
     "status": "completed"
    },
    "tags": []
   },
   "source": [
    "# **Prediction**"
   ]
  },
  {
   "cell_type": "markdown",
   "id": "efe0cb73",
   "metadata": {
    "id": "VG9p5F21PAvH",
    "papermill": {
     "duration": 0.01709,
     "end_time": "2023-08-04T16:29:13.466119",
     "exception": false,
     "start_time": "2023-08-04T16:29:13.449029",
     "status": "completed"
    },
    "tags": []
   },
   "source": [
    "### **Predict Test Data**"
   ]
  },
  {
   "cell_type": "code",
   "execution_count": 57,
   "id": "f9362ac7",
   "metadata": {
    "execution": {
     "iopub.execute_input": "2023-08-04T16:29:13.503172Z",
     "iopub.status.busy": "2023-08-04T16:29:13.502660Z",
     "iopub.status.idle": "2023-08-04T16:29:13.535187Z",
     "shell.execute_reply": "2023-08-04T16:29:13.533757Z"
    },
    "id": "OExW8lApNl9i",
    "papermill": {
     "duration": 0.054812,
     "end_time": "2023-08-04T16:29:13.538339",
     "exception": false,
     "start_time": "2023-08-04T16:29:13.483527",
     "status": "completed"
    },
    "tags": []
   },
   "outputs": [],
   "source": [
    "y_pred = rf.predict(xtest)"
   ]
  },
  {
   "cell_type": "code",
   "execution_count": 58,
   "id": "8fb0b731",
   "metadata": {
    "execution": {
     "iopub.execute_input": "2023-08-04T16:29:13.575311Z",
     "iopub.status.busy": "2023-08-04T16:29:13.574800Z",
     "iopub.status.idle": "2023-08-04T16:29:13.584853Z",
     "shell.execute_reply": "2023-08-04T16:29:13.583361Z"
    },
    "id": "rnb_fNpENqrv",
    "outputId": "081b94a0-1398-4f61-b332-f74b5eb8d431",
    "papermill": {
     "duration": 0.031923,
     "end_time": "2023-08-04T16:29:13.587466",
     "exception": false,
     "start_time": "2023-08-04T16:29:13.555543",
     "status": "completed"
    },
    "tags": []
   },
   "outputs": [
    {
     "data": {
      "text/plain": [
       "array([5, 7, 5, 2, 6, 5, 9, 7, 5, 3, 6, 9, 3, 4, 2, 0, 2, 7, 6, 2, 4, 8,\n",
       "       8, 1, 4, 9, 3, 9, 1, 0, 5, 8, 6, 7, 4, 0, 1, 6, 3, 7, 3, 5, 1, 9,\n",
       "       0, 7, 4, 5, 0, 6, 3, 6, 5, 8, 5, 2, 1, 9, 7, 2, 9, 4, 1, 8, 6, 9,\n",
       "       9, 3, 1, 8, 1, 1, 2, 0, 8, 0, 2, 9, 8, 4, 6, 5, 8, 0, 0, 4, 8, 2,\n",
       "       7, 5, 1, 2, 0, 0, 2, 4, 2, 7, 8, 1, 9, 1, 5, 8, 0, 8, 3, 4, 1, 8,\n",
       "       9, 4, 4, 0, 3, 2, 1, 4, 5, 6, 9, 9, 3, 8, 7, 0, 4, 4, 5, 5, 6, 8,\n",
       "       5, 5, 6, 7, 3, 7, 9, 9, 5, 1, 1, 8, 4, 9, 1, 3, 1, 4, 2, 2, 4, 2,\n",
       "       9, 1, 6, 8, 5, 2, 1, 2, 3, 5, 8, 0, 2, 0, 2, 6, 2, 8, 9, 8, 2, 7,\n",
       "       7, 8, 5, 5, 6, 7, 1, 4, 3, 3, 8, 2, 9, 6, 3, 5, 6, 1, 7, 2, 2, 1,\n",
       "       3, 2, 1, 3, 6, 4, 0, 2, 7, 4, 5, 3, 2, 3, 1, 7, 5, 7, 5, 1, 3, 0,\n",
       "       9, 5, 9, 8, 4, 5, 5, 6, 9, 0, 9, 8, 8, 1, 2, 3, 5, 9, 9, 7, 9, 3,\n",
       "       3, 1, 1, 5, 9, 3, 8, 5, 4, 4, 8, 6, 6, 2, 3, 7, 0, 7, 6, 0, 2, 0,\n",
       "       2, 2, 1, 1, 3, 3, 2, 3, 7, 0, 8, 4, 2, 4, 8, 2, 5, 5, 5, 4, 1, 2,\n",
       "       3, 8, 4, 3, 2, 3, 4, 1, 2, 7, 6, 8, 9, 7, 4, 7, 5, 8, 7, 6, 0, 7,\n",
       "       0, 0, 7, 8, 6, 9, 8, 2, 2, 0, 6, 9, 6, 4, 2, 9, 3, 1, 1, 2, 1, 2,\n",
       "       4, 7, 1, 4, 6, 1, 8, 7, 1, 5, 4, 9, 1, 6, 2, 6, 2, 8, 6, 3, 9, 1,\n",
       "       5, 7, 5, 3, 8, 5, 5, 1, 6, 4, 7, 9, 1, 2, 5, 5, 2, 8, 1, 6, 3, 2,\n",
       "       9, 3, 8, 9, 0, 8, 7, 4, 9, 3, 4, 1, 0, 1, 1, 4, 3, 5, 1, 4, 6, 7,\n",
       "       0, 9, 7, 8, 8, 4, 2, 9, 0, 0, 5, 3, 8, 4, 0, 3, 1, 2, 3, 0, 9, 7,\n",
       "       6, 3, 6, 5, 2, 5, 8, 1, 8, 8, 9, 8, 9, 3, 5, 1, 0, 8, 5, 2, 7, 2,\n",
       "       5, 1, 3, 9, 3, 4, 3, 7, 1, 3, 7, 5, 5, 5, 0, 4, 0, 7, 4, 0, 2, 0,\n",
       "       9, 0, 2, 7, 2, 7, 6, 4, 8, 1, 5, 1, 1, 7, 9, 7, 5, 1, 3, 3, 5, 0,\n",
       "       0, 2, 4, 1, 0, 7, 3, 6, 3, 3, 0, 9, 6, 4, 8, 6, 4, 5, 5, 0, 5, 5,\n",
       "       1, 8, 5, 5, 5, 5, 3, 8, 3, 3, 4, 7, 2, 8, 8, 0, 0, 0, 4, 9, 6, 7,\n",
       "       9, 8, 8, 7, 9, 0, 3, 2, 3, 8, 2, 4])"
      ]
     },
     "execution_count": 58,
     "metadata": {},
     "output_type": "execute_result"
    }
   ],
   "source": [
    "y_pred"
   ]
  },
  {
   "cell_type": "markdown",
   "id": "e30026ac",
   "metadata": {
    "id": "Jvr4uUaWPxVZ",
    "papermill": {
     "duration": 0.017529,
     "end_time": "2023-08-04T16:29:13.622843",
     "exception": false,
     "start_time": "2023-08-04T16:29:13.605314",
     "status": "completed"
    },
    "tags": []
   },
   "source": [
    "#  **Model Evaluation**"
   ]
  },
  {
   "cell_type": "markdown",
   "id": "e7abe6e1",
   "metadata": {
    "id": "hPklvpbnN9Y6",
    "papermill": {
     "duration": 0.016627,
     "end_time": "2023-08-04T16:29:13.656652",
     "exception": false,
     "start_time": "2023-08-04T16:29:13.640025",
     "status": "completed"
    },
    "tags": []
   },
   "source": [
    "### **Model Accuracy**"
   ]
  },
  {
   "cell_type": "code",
   "execution_count": 59,
   "id": "e839e15a",
   "metadata": {
    "execution": {
     "iopub.execute_input": "2023-08-04T16:29:13.693083Z",
     "iopub.status.busy": "2023-08-04T16:29:13.692581Z",
     "iopub.status.idle": "2023-08-04T16:29:13.698632Z",
     "shell.execute_reply": "2023-08-04T16:29:13.697297Z"
    },
    "id": "nZpShDxnOLIa",
    "papermill": {
     "duration": 0.027431,
     "end_time": "2023-08-04T16:29:13.701200",
     "exception": false,
     "start_time": "2023-08-04T16:29:13.673769",
     "status": "completed"
    },
    "tags": []
   },
   "outputs": [],
   "source": [
    "from sklearn.metrics import confusion_matrix, classification_report"
   ]
  },
  {
   "cell_type": "code",
   "execution_count": 60,
   "id": "07346ad2",
   "metadata": {
    "execution": {
     "iopub.execute_input": "2023-08-04T16:29:13.739157Z",
     "iopub.status.busy": "2023-08-04T16:29:13.738605Z",
     "iopub.status.idle": "2023-08-04T16:29:13.750060Z",
     "shell.execute_reply": "2023-08-04T16:29:13.748780Z"
    },
    "id": "ivPo0VnBOPHs",
    "outputId": "cf461f37-0cc5-43ab-c0b5-dc7397e93a7c",
    "papermill": {
     "duration": 0.033949,
     "end_time": "2023-08-04T16:29:13.752806",
     "exception": false,
     "start_time": "2023-08-04T16:29:13.718857",
     "status": "completed"
    },
    "tags": []
   },
   "outputs": [
    {
     "data": {
      "text/plain": [
       "array([[47,  0,  0,  0,  0,  0,  0,  0,  0,  0],\n",
       "       [ 0, 58,  0,  0,  0,  0,  0,  0,  0,  0],\n",
       "       [ 0,  1, 60,  0,  0,  0,  0,  0,  0,  0],\n",
       "       [ 0,  0,  1, 57,  0,  1,  0,  0,  0,  0],\n",
       "       [ 0,  0,  0,  0, 50,  0,  0,  2,  0,  1],\n",
       "       [ 0,  0,  0,  1,  1, 63,  0,  0,  0,  1],\n",
       "       [ 2,  0,  0,  0,  0,  0, 41,  0,  1,  0],\n",
       "       [ 0,  0,  0,  0,  0,  0,  0, 46,  0,  0],\n",
       "       [ 0,  0,  0,  0,  0,  0,  0,  1, 57,  0],\n",
       "       [ 0,  0,  0,  0,  0,  0,  0,  0,  0, 48]])"
      ]
     },
     "execution_count": 60,
     "metadata": {},
     "output_type": "execute_result"
    }
   ],
   "source": [
    "confusion_matrix(ytest, y_pred)"
   ]
  },
  {
   "cell_type": "code",
   "execution_count": 61,
   "id": "8bf55a44",
   "metadata": {
    "execution": {
     "iopub.execute_input": "2023-08-04T16:29:13.790685Z",
     "iopub.status.busy": "2023-08-04T16:29:13.789779Z",
     "iopub.status.idle": "2023-08-04T16:29:13.807238Z",
     "shell.execute_reply": "2023-08-04T16:29:13.805669Z"
    },
    "id": "JTY4ExgcOXFU",
    "outputId": "da391975-0d03-4aca-ec74-fe294d7ee90c",
    "papermill": {
     "duration": 0.039533,
     "end_time": "2023-08-04T16:29:13.810371",
     "exception": false,
     "start_time": "2023-08-04T16:29:13.770838",
     "status": "completed"
    },
    "tags": []
   },
   "outputs": [
    {
     "name": "stdout",
     "output_type": "stream",
     "text": [
      "              precision    recall  f1-score   support\n",
      "\n",
      "           0       0.96      1.00      0.98        47\n",
      "           1       0.98      1.00      0.99        58\n",
      "           2       0.98      0.98      0.98        61\n",
      "           3       0.98      0.97      0.97        59\n",
      "           4       0.98      0.94      0.96        53\n",
      "           5       0.98      0.95      0.97        66\n",
      "           6       1.00      0.93      0.96        44\n",
      "           7       0.94      1.00      0.97        46\n",
      "           8       0.98      0.98      0.98        58\n",
      "           9       0.96      1.00      0.98        48\n",
      "\n",
      "    accuracy                           0.98       540\n",
      "   macro avg       0.98      0.98      0.98       540\n",
      "weighted avg       0.98      0.98      0.98       540\n",
      "\n"
     ]
    }
   ],
   "source": [
    "print(classification_report(ytest, y_pred))"
   ]
  },
  {
   "cell_type": "markdown",
   "id": "c01c7c63",
   "metadata": {},
   "source": [
    "# **Explaination**"
   ]
  },
  {
   "cell_type": "markdown",
   "id": "8ee06c32",
   "metadata": {},
   "source": [
    "Handwritten Digit Prediction, or Digit Classification, is like training a computer to read and understand handwritten numbers, similar to how we recognize them ourselves. Imagine you have a bunch of pictures, each showing a handwritten digit from 0 to 9. The goal is to teach the computer how to look at these pictures and figure out which digit is in each one. We split our pictures into two groups: one set to teach the computer (training set) and another to test its skills (testing set). We choose a smart method, like a special problem-solving recipe, for the computer to learn the patterns and differences in the pictures. As it learns, we guide it by telling whether its guesses are right or wrong. Once it masters this skill, we give it new pictures it hasn't seen during training, and it tries its best to guess the correct digit. We check its guesses to see how well it's doing, using simple checks to see if it's getting the numbers correct. This project helps us build a computer that can recognize handwritten digits, which has practical uses like reading postal codes or helping computers understand our handwriting. It's like teaching the computer to read your handwriting."
   ]
  }
 ],
 "metadata": {
  "kernelspec": {
   "display_name": "Python 3",
   "language": "python",
   "name": "python3"
  },
  "language_info": {
   "codemirror_mode": {
    "name": "ipython",
    "version": 3
   },
   "file_extension": ".py",
   "mimetype": "text/x-python",
   "name": "python",
   "nbconvert_exporter": "python",
   "pygments_lexer": "ipython3",
   "version": "3.11.1"
  },
  "papermill": {
   "default_parameters": {},
   "duration": 19.690526,
   "end_time": "2023-08-04T16:29:15.129709",
   "environment_variables": {},
   "exception": null,
   "input_path": "__notebook__.ipynb",
   "output_path": "__notebook__.ipynb",
   "parameters": {},
   "start_time": "2023-08-04T16:28:55.439183",
   "version": "2.4.0"
  }
 },
 "nbformat": 4,
 "nbformat_minor": 5
}
